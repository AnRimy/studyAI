{
 "cells": [
  {
   "cell_type": "code",
   "execution_count": 14,
   "id": "3bee7d60",
   "metadata": {},
   "outputs": [],
   "source": [
    "import torch\n",
    "import torch.nn as nn\n",
    "import numpy as np\n",
    "\n",
    "class Perceptron(nn.Module):\n",
    "    def __init__(self, input_dim):\n",
    "        super(Perceptron, self).__init__()\n",
    "        self.fn = nn.Linear(input_dim, 1)\n",
    "\n",
    "        \n",
    "    def forward(self, x):\n",
    "        return self.fn(x)\n",
    "\n",
    "\n",
    "\n",
    "data = np.array([i for i in range(1, 21)])    \n",
    "input_dim = 3\n",
    "X = []\n",
    "y = []\n",
    "\n",
    "for i in range(len(data) - input_dim):\n",
    "    window = data[i : i + input_dim]\n",
    "    target = data[i + input_dim]\n",
    "    X.append(window)\n",
    "    y.append(target)\n",
    "\n",
    "X = torch.tensor(X, dtype=torch.float32)\n",
    "y = torch.tensor(y, dtype=torch.float32)\n",
    "\n",
    "X_mean, X_std = X.mean(), X.std()\n",
    "y_mean, y_std = y.mean(), y.std()\n",
    "\n",
    "X_normalized = (X - X_mean) / X_std\n",
    "y_normalized = (y - y_mean) / y_std\n",
    "\n",
    "model = Perceptron(input_dim)\n",
    "criterion = nn.MSELoss()\n",
    "optimizer = torch.optim.Adam(model.parameters(), lr=0.001)\n",
    "\n",
    "for i in range(1000):\n",
    "    optimizer.zero_grad()\n",
    "    out = model(X_normalized)\n",
    "    loss = criterion(out.squeeze(), y_normalized)\n",
    "    loss.backward()\n",
    "    optimizer.step()"
   ]
  },
  {
   "cell_type": "code",
   "execution_count": 21,
   "id": "88a08251",
   "metadata": {},
   "outputs": [
    {
     "name": "stdout",
     "output_type": "stream",
     "text": [
      "tensor([[   4.0014],\n",
      "        [  10.0003],\n",
      "        [  32.9964],\n",
      "        [  99.9849],\n",
      "        [1569.7325]], grad_fn=<AddBackward0>)\n"
     ]
    }
   ],
   "source": [
    "X1 = torch.tensor([[1, 2, 3],\n",
    "      [7, 8, 9],\n",
    "      [30, 31, 32],\n",
    "      [97, 98, 99],\n",
    "      [1567, 1568, 1569]], dtype=torch.float32)\n",
    "X1_mean, X1_std = X.mean(), X.std()\n",
    "X1_norma = (X1 - X1_mean) / X1_std\n",
    "\n",
    "outputs = model(X1_norma) \n",
    "val = outputs * y_std + y_mean\n",
    "print(val)\n"
   ]
  }
 ],
 "metadata": {
  "kernelspec": {
   "display_name": "venv",
   "language": "python",
   "name": "python3"
  },
  "language_info": {
   "codemirror_mode": {
    "name": "ipython",
    "version": 3
   },
   "file_extension": ".py",
   "mimetype": "text/x-python",
   "name": "python",
   "nbconvert_exporter": "python",
   "pygments_lexer": "ipython3",
   "version": "3.11.2"
  }
 },
 "nbformat": 4,
 "nbformat_minor": 5
}
