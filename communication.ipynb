{
 "cells": [
  {
   "cell_type": "code",
   "execution_count": 3,
   "id": "11c5ba99",
   "metadata": {},
   "outputs": [
    {
     "name": "stdout",
     "output_type": "stream",
     "text": [
      "Уникальные символы: \n",
      " !\"#$%&'()*+,-./0123456789:;<=>?@ABCDEFGHIJKLMNOPQRSTUVWXYZ[\\]^_`abcdefghijklmnopqrstuvwxyz{|}~©«¬¯°²´·»½¿Ë×Øéëìóö÷ĘęśźŻżƍǝɐɓɔɯʁʎʖʚʞ̴̵̸̡̢̧̨̛̖̗̘̙̜̝̞̟̠̣̤̥̦̩̪̫̬̭̮̯̰̱̲̹̺̻̼͇͈͉͍͎͓͔͕͖͙͚̀́̂̃̄̅̆̇̈̉̋̌̍̎̏̐̑̒̓̔̽̾̀́͂̓̈́͆͊͋͌͐͑͒͗͛ͣͥͧͪͬͮͯ̕̚͘͜͝͠͡ͅΒΗΜΠδεοπЁІЇАБВГДЕЖЗИЙКЛМНОПРСТУФХЦЧШЩЪЫЬЭЮЯабвгдежзийклмнопрстуфхцчшщъыьэюяёєії҉აბგდევზთიკლმნორსტუფქღყშჩცწხჯჰᲠ​‍‐–—‘’‚“”•…″⁃₂₃€№⇄−√≈Ⓘⓘ█▒☝☺☻♂⚡⚰✉❗❤⠁⠂⠅⠇⠊⠍⠏⠑⠕⠗⠚⠝⠥⠫⠱⠲⠵。あかくしせたとなにはまもをん为举事人代任会副卐名命已并应成手接数新最果然犯理由的直私经结给翻老虽表訳誰选长️﻿，－🇱🇵🌈🌚🌝🌲🍎🍏🍬🎅🎉🏪🏳🏻🏼🐌🐻👀👇👈👉👞👣👦👨👩💌💨💭💰💺🔞🔥🕺😂😃😅😈😉😊😋😍😎😏😓😜😭😱😳😹😻🙏🚗🤙🤝🤡🤣🤯🤵🤷🥀🥃🥺🫡\n",
      "Размер словаря: 514 \n",
      "\n"
     ]
    }
   ],
   "source": [
    "import torch\n",
    "import torch.nn as nn\n",
    "import numpy as np\n",
    "import random\n",
    "\n",
    "with open(\"studyText/dataset.txt\") as t:\n",
    "    text = t.read()\n",
    "\n",
    "chars = sorted(list(set(text)))\n",
    "vocab_size = len(chars)\n",
    "print('Уникальные символы:', ''.join(chars))\n",
    "print(f'Размер словаря: {vocab_size}', '\\n')\n",
    "\n",
    "char_to_idx = {ch: i for i, ch in enumerate(chars)}\n",
    "idx_to_char = {i: ch for i, ch in enumerate(chars)}\n",
    "\n",
    "\n",
    "def encode(s): return [char_to_idx[c] for c in s]\n",
    "def decode(l): return ''.join([idx_to_char[i] for i in l])\n"
   ]
  },
  {
   "cell_type": "code",
   "execution_count": 14,
   "id": "636bd45d",
   "metadata": {},
   "outputs": [
    {
     "name": "stdout",
     "output_type": "stream",
     "text": [
      "CharRNN(\n",
      "  (embedding): Embedding(514, 256)\n",
      "  (rnn): LSTM(256, 256, num_layers=2, batch_first=True, dropout=0.2)\n",
      "  (dropout): Dropout(p=0.2, inplace=False)\n",
      "  (fc): Linear(in_features=256, out_features=514, bias=True)\n",
      ")\n"
     ]
    }
   ],
   "source": [
    "class CharRNN(nn.Module):\n",
    "    def __init__(self, vocab_size, hidden_size, num_layers=2, dropout=0.2):\n",
    "        super(CharRNN, self).__init__()\n",
    "        self.hidden_size = hidden_size\n",
    "        self.num_layers = num_layers\n",
    "        \n",
    "        self.embedding = nn.Embedding(vocab_size, hidden_size)\n",
    "        self.rnn = nn.LSTM(hidden_size, hidden_size, num_layers, batch_first=True, dropout=dropout)\n",
    "        self.dropout = nn.Dropout(dropout)\n",
    "        self.fc = nn.Linear(hidden_size, vocab_size)\n",
    "        \n",
    "    \n",
    "    def forward(self, x, hidden):\n",
    "        embedded = self.embedding(x)\n",
    "        \n",
    "        output, hidden = self.rnn(embedded, hidden)\n",
    "\n",
    "        output = self.fc(output)\n",
    "        return output, hidden\n",
    "    \n",
    "    \n",
    "    def init_hidden(self, batch_size):\n",
    "        h = torch.zeros(self.num_layers, batch_size, self.hidden_size)\n",
    "        c = torch.zeros(self.num_layers, batch_size, self.hidden_size)\n",
    "        return (h, c)\n",
    "\n",
    "hidden_size = 256\n",
    "model = CharRNN(vocab_size, hidden_size)\n",
    "print(model)"
   ]
  },
  {
   "cell_type": "code",
   "execution_count": 10,
   "id": "83cba5c0",
   "metadata": {},
   "outputs": [
    {
     "name": "stdout",
     "output_type": "stream",
     "text": [
      "Входная последовательность: tensor([287, 284, 276, 287,   1, 281,   1, 294, 287, 289]) ...\n",
      "Целевая последовательность: tensor([284, 276, 287,   1, 281,   1, 294, 287, 289, 287]) ...\n",
      "Текст входа: олго и хор\n",
      "Текст цели: лго и хоро\n"
     ]
    }
   ],
   "source": [
    "data = encode(text)\n",
    "data = torch.tensor(data, dtype=torch.long)\n",
    "\n",
    "\n",
    "seq_length = 50\n",
    "batch_size = 64\n",
    "\n",
    "def get_batch():\n",
    "    start_idxs = torch.randint(0, len(data) - seq_length, (batch_size,))\n",
    "    \n",
    "    x_batch = torch.stack([data[i:i+seq_length] for i in start_idxs])\n",
    "    y_batch = torch.stack([data[i+1:i+seq_length+1] for i in start_idxs])\n",
    "    \n",
    "    return x_batch, y_batch\n",
    "\n",
    "x, y = get_batch()\n",
    "print(\"Входная последовательность:\", x[0][:10], \"...\")\n",
    "print(\"Целевая последовательность:\", y[0][:10], \"...\")\n",
    "print(\"Текст входа:\", decode(x[0][:10].tolist()))\n",
    "print(\"Текст цели:\", decode(y[0][:10].tolist()))"
   ]
  },
  {
   "cell_type": "code",
   "execution_count": null,
   "id": "12f67cf4",
   "metadata": {},
   "outputs": [
    {
     "name": "stdout",
     "output_type": "stream",
     "text": [
      "Epoch 0, Loss: 6.2542\n"
     ]
    }
   ],
   "source": [
    "learning_rate = 0.0001\n",
    "num_epochs = 20000\n",
    "print_interval = 1000\n",
    "\n",
    "criterion = nn.CrossEntropyLoss()\n",
    "optimizer = torch.optim.Adam(model.parameters(), lr=learning_rate)\n",
    "\n",
    "model.train()\n",
    "for epoch in range(num_epochs):\n",
    "    x_batch, y_batch = get_batch()\n",
    "    \n",
    "    optimizer.zero_grad()\n",
    "\n",
    "    hidden = model.init_hidden(batch_size)\n",
    "    \n",
    "    output, hidden = model(x_batch, hidden)\n",
    "    \n",
    "    loss = criterion(output.view(-1, vocab_size), y_batch.view(-1))\n",
    "    \n",
    "    loss.backward()\n",
    "    torch.nn.utils.clip_grad_norm_(model.parameters(), max_norm=1.0)\n",
    "    optimizer.step()\n",
    "    \n",
    "    if epoch % print_interval == 0:\n",
    "        print(f'Epoch {epoch}, Loss: {loss.item():.4f}')\n",
    "        \n",
    "\n",
    "print(\"Обучение завершено!\")"
   ]
  },
  {
   "cell_type": "code",
   "execution_count": null,
   "id": "d289eea2",
   "metadata": {},
   "outputs": [
    {
     "ename": "NameError",
     "evalue": "name 'model' is not defined",
     "output_type": "error",
     "traceback": [
      "\u001b[31m---------------------------------------------------------------------------\u001b[39m",
      "\u001b[31mNameError\u001b[39m                                 Traceback (most recent call last)",
      "\u001b[36mCell\u001b[39m\u001b[36m \u001b[39m\u001b[32mIn[1]\u001b[39m\u001b[32m, line 29\u001b[39m\n\u001b[32m     26\u001b[39m     \u001b[38;5;28;01mreturn\u001b[39;00m \u001b[33m'\u001b[39m\u001b[33m'\u001b[39m.join(chars)\n\u001b[32m     28\u001b[39m \u001b[38;5;66;03m# Тестируем генерацию\u001b[39;00m\n\u001b[32m---> \u001b[39m\u001b[32m29\u001b[39m \u001b[43mmodel\u001b[49m.eval()\n\u001b[32m     30\u001b[39m generated_text = generate_text(model, \u001b[33m\"\u001b[39m\u001b[33mУ лукоморья\u001b[39m\u001b[33m\"\u001b[39m, \u001b[32m100\u001b[39m)\n\u001b[32m     31\u001b[39m \u001b[38;5;28mprint\u001b[39m(\u001b[33m\"\u001b[39m\u001b[33mСгенерированный текст:\u001b[39m\u001b[33m\"\u001b[39m)\n",
      "\u001b[31mNameError\u001b[39m: name 'model' is not defined"
     ]
    }
   ],
   "source": [
    "def generate_text(model, start_str, length=100, temperature=0.8):\n",
    "    model.eval()\n",
    "    \n",
    "    chars = [ch for ch in start_str]\n",
    "    input_seq = torch.tensor(encode(chars), dtype=torch.long).unsqueeze(0)\n",
    "    hidden = model.init_hidden(1)\n",
    "    \n",
    "    for _ in range(length):\n",
    "        with torch.no_grad():\n",
    "            output, hidden = model(input_seq, hidden)\n",
    "            \n",
    "            logits = output[0, -1, :] / temperature\n",
    "            probabilities = torch.softmax(logits, dim=0)\n",
    "            \n",
    "            next_char_idx = torch.multinomial(probabilities, 1).item()\n",
    "            \n",
    "            chars.append(idx_to_char[next_char_idx])\n",
    "            input_seq = torch.tensor([[next_char_idx]], dtype=torch.long)\n",
    "    \n",
    "    return ''.join(chars)\n",
    "\n",
    "model.eval()\n",
    "generated_text = generate_text(model, \"Трава\", 100)\n",
    "print(\"Сгенерированный текст:\")\n",
    "print(generated_text)"
   ]
  },
  {
   "cell_type": "code",
   "execution_count": null,
   "id": "142a09bd",
   "metadata": {},
   "outputs": [
    {
     "ename": "NameError",
     "evalue": "name 'model' is not defined",
     "output_type": "error",
     "traceback": [
      "\u001b[31m---------------------------------------------------------------------------\u001b[39m",
      "\u001b[31mNameError\u001b[39m                                 Traceback (most recent call last)",
      "\u001b[36mCell\u001b[39m\u001b[36m \u001b[39m\u001b[32mIn[2]\u001b[39m\u001b[32m, line 13\u001b[39m\n\u001b[32m     10\u001b[39m     \u001b[38;5;28mprint\u001b[39m(\u001b[33m\"\u001b[39m\u001b[33mМодель:\u001b[39m\u001b[33m\"\u001b[39m, generated_response)\n\u001b[32m     12\u001b[39m \u001b[38;5;66;03m# Пример использования\u001b[39;00m\n\u001b[32m---> \u001b[39m\u001b[32m13\u001b[39m chat_with_model(\u001b[43mmodel\u001b[49m, \u001b[33m\"\u001b[39m\u001b[33mкостер\u001b[39m\u001b[33m\"\u001b[39m)\n",
      "\u001b[31mNameError\u001b[39m: name 'model' is not defined"
     ]
    }
   ],
   "source": [
    "def chat_with_model(model, initial_prompt=\"Привет\", response_length=50):\n",
    "    \"\"\"Функция для 'общения' с моделью\"\"\"\n",
    "    print(\"Вы:\", initial_prompt)\n",
    "    \n",
    "    response = generate_text(model, initial_prompt, response_length)\n",
    "\n",
    "    generated_response = response[len(initial_prompt):]\n",
    "    print(\"Модель:\", generated_response)\n",
    "\n",
    "chat_with_model(model, \"костер\")"
   ]
  }
 ],
 "metadata": {
  "kernelspec": {
   "display_name": "venv",
   "language": "python",
   "name": "python3"
  },
  "language_info": {
   "codemirror_mode": {
    "name": "ipython",
    "version": 3
   },
   "file_extension": ".py",
   "mimetype": "text/x-python",
   "name": "python",
   "nbconvert_exporter": "python",
   "pygments_lexer": "ipython3",
   "version": "3.11.2"
  }
 },
 "nbformat": 4,
 "nbformat_minor": 5
}
