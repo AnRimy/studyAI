{
 "cells": [
  {
   "cell_type": "code",
   "execution_count": 4,
   "id": "11c5ba99",
   "metadata": {},
   "outputs": [
    {
     "name": "stdout",
     "output_type": "stream",
     "text": [
      "Уникальные символы: \n",
      " !\"#$%&'()*+,-./0123456789:;<=>?@ABCDEFGHIJKLMNOPQRSTUVWXYZ[\\]^_`abcdefghijklmnopqrstuvwxyz{|}~©«¬¯°²´·»½¿Ë×Øéëìóö÷ĘęśźŻżƍǝɐɓɔɯʁʎʖʚʞ̴̵̸̡̢̧̨̛̖̗̘̙̜̝̞̟̠̣̤̥̦̩̪̫̬̭̮̯̰̱̲̹̺̻̼͇͈͉͍͎͓͔͕͖͙͚̀́̂̃̄̅̆̇̈̉̋̌̍̎̏̐̑̒̓̔̽̾̀́͂̓̈́͆͊͋͌͐͑͒͗͛ͣͥͧͪͬͮͯ̕̚͘͜͝͠͡ͅΒΗΜΠδεοπЁІЇАБВГДЕЖЗИЙКЛМНОПРСТУФХЦЧШЩЪЫЬЭЮЯабвгдежзийклмнопрстуфхцчшщъыьэюяёєії҉აბგდევზთიკლმნორსტუფქღყშჩცწხჯჰᲠ​‍‐–—‘’‚“”•…″⁃₂₃€№⇄−√≈Ⓘⓘ█▒☝☺☻♂⚡⚰✉❗❤⠁⠂⠅⠇⠊⠍⠏⠑⠕⠗⠚⠝⠥⠫⠱⠲⠵。あかくしせたとなにはまもをん为举事人代任会副卐名命已并应成手接数新最果然犯理由的直私经结给翻老虽表訳誰选长️﻿，－🇱🇵🌈🌚🌝🌲🍎🍏🍬🎅🎉🏪🏳🏻🏼🐌🐻👀👇👈👉👞👣👦👨👩💌💨💭💰💺🔞🔥🕺😂😃😅😈😉😊😋😍😎😏😓😜😭😱😳😹😻🙏🚗🤙🤝🤡🤣🤯🤵🤷🥀🥃🥺🫡\n",
      "Размер словаря: 514 \n",
      "\n"
     ]
    }
   ],
   "source": [
    "import torch\n",
    "import torch.nn as nn\n",
    "import numpy as np\n",
    "import random\n",
    "\n",
    "import gc\n",
    "import psutil\n",
    "import os\n",
    "import multiprocessing as mp\n",
    "\n",
    "p = psutil.Process(os.getpid())\n",
    "p.nice(10)\n",
    "\n",
    "num_cores = mp.cpu_count()\n",
    "torch.set_num_threads(num_cores)\n",
    "torch.set_num_interop_threads(num_cores)\n",
    "\n",
    "torch.backends.cudnn.benchmark = True\n",
    "torch.backends.cudnn.enabled = True\n",
    "\n",
    "with open(\"studyText/dataset.txt\") as t:\n",
    "    text = t.read()\n",
    "\n",
    "chars = sorted(list(set(text)))\n",
    "vocab_size = len(chars)\n",
    "print('Уникальные символы:', ''.join(chars))\n",
    "print(f'Размер словаря: {vocab_size}', '\\n')\n",
    "\n",
    "char_to_idx = {ch: i for i, ch in enumerate(chars)}\n",
    "idx_to_char = {i: ch for i, ch in enumerate(chars)}\n",
    "\n",
    "\n",
    "def encode(s): return [char_to_idx[c] for c in s]\n",
    "def decode(l): return ''.join([idx_to_char[i] for i in l])\n"
   ]
  },
  {
   "cell_type": "code",
   "execution_count": 5,
   "id": "636bd45d",
   "metadata": {},
   "outputs": [
    {
     "name": "stdout",
     "output_type": "stream",
     "text": [
      "CharRNN(\n",
      "  (embedding): Embedding(514, 256)\n",
      "  (rnn): LSTM(256, 256, num_layers=2, batch_first=True, dropout=0.2)\n",
      "  (dropout): Dropout(p=0.2, inplace=False)\n",
      "  (fc): Linear(in_features=256, out_features=514, bias=True)\n",
      ")\n"
     ]
    }
   ],
   "source": [
    "class CharRNN(nn.Module):\n",
    "    def __init__(self, vocab_size, hidden_size, num_layers=2, dropout=0.2):\n",
    "        super(CharRNN, self).__init__()\n",
    "        self.hidden_size = hidden_size\n",
    "        self.num_layers = num_layers\n",
    "        \n",
    "        self.embedding = nn.Embedding(vocab_size, hidden_size)\n",
    "        self.rnn = nn.LSTM(hidden_size, hidden_size, num_layers, batch_first=True, dropout=dropout)\n",
    "        self.dropout = nn.Dropout(dropout)\n",
    "        self.fc = nn.Linear(hidden_size, vocab_size)\n",
    "        \n",
    "    \n",
    "    def forward(self, x, hidden):\n",
    "        embedded = self.embedding(x)\n",
    "        \n",
    "        output, hidden = self.rnn(embedded, hidden)\n",
    "\n",
    "        output = self.fc(output)\n",
    "        return output, hidden\n",
    "    \n",
    "    \n",
    "    def init_hidden(self, batch_size):\n",
    "        h = torch.zeros(self.num_layers, batch_size, self.hidden_size)\n",
    "        c = torch.zeros(self.num_layers, batch_size, self.hidden_size)\n",
    "        return (h, c)\n",
    "\n",
    "hidden_size = 256\n",
    "model = CharRNN(vocab_size, hidden_size)\n",
    "print(model)"
   ]
  },
  {
   "cell_type": "code",
   "execution_count": 6,
   "id": "83cba5c0",
   "metadata": {},
   "outputs": [
    {
     "name": "stdout",
     "output_type": "stream",
     "text": [
      "Входная последовательность: tensor([  1, 251, 275, 273, 277, 289, 273, 291, 281, 283]) ...\n",
      "Целевая последовательность: tensor([251, 275, 273, 277, 289, 273, 291, 281, 283,  14]) ...\n",
      "Текст входа:  Квадратик\n",
      "Текст цели: Квадратик-\n"
     ]
    }
   ],
   "source": [
    "data = encode(text)\n",
    "data = torch.tensor(data, dtype=torch.long)\n",
    "\n",
    "\n",
    "seq_length = 50\n",
    "batch_size = 64\n",
    "\n",
    "def get_batch():\n",
    "    start_idxs = torch.randint(0, len(data) - seq_length, (batch_size,))\n",
    "    \n",
    "    x_batch = torch.stack([data[i:i+seq_length] for i in start_idxs])\n",
    "    y_batch = torch.stack([data[i+1:i+seq_length+1] for i in start_idxs])\n",
    "    \n",
    "    return x_batch, y_batch\n",
    "\n",
    "x, y = get_batch()\n",
    "print(\"Входная последовательность:\", x[0][:10], \"...\")\n",
    "print(\"Целевая последовательность:\", y[0][:10], \"...\")\n",
    "print(\"Текст входа:\", decode(x[0][:10].tolist()))\n",
    "print(\"Текст цели:\", decode(y[0][:10].tolist()))"
   ]
  },
  {
   "cell_type": "code",
   "execution_count": 9,
   "id": "12f67cf4",
   "metadata": {},
   "outputs": [
    {
     "name": "stdout",
     "output_type": "stream",
     "text": [
      "Epoch 0, Loss: 2.2820\n",
      "Epoch 1000, Loss: 2.2730\n",
      "Epoch 2000, Loss: 2.2660\n",
      "Epoch 3000, Loss: 2.1493\n",
      "Epoch 4000, Loss: 2.1545\n",
      "Epoch 5000, Loss: 2.1103\n",
      "Epoch 6000, Loss: 2.0846\n",
      "Epoch 7000, Loss: 2.0856\n",
      "Epoch 8000, Loss: 2.0345\n",
      "Epoch 9000, Loss: 1.9786\n",
      "Epoch 10000, Loss: 1.9909\n",
      "Epoch 11000, Loss: 1.9681\n",
      "Epoch 12000, Loss: 1.9593\n",
      "Epoch 13000, Loss: 2.0277\n",
      "Epoch 14000, Loss: 1.8486\n",
      "Epoch 15000, Loss: 2.0682\n",
      "Epoch 16000, Loss: 1.9132\n",
      "Epoch 17000, Loss: 1.9814\n",
      "Epoch 18000, Loss: 1.9395\n",
      "Epoch 19000, Loss: 1.9039\n",
      "Epoch 20000, Loss: 1.8731\n",
      "Epoch 21000, Loss: 1.9040\n",
      "Epoch 22000, Loss: 1.8487\n",
      "Epoch 23000, Loss: 1.8687\n",
      "Epoch 24000, Loss: 1.8641\n",
      "Epoch 25000, Loss: 1.8713\n",
      "Epoch 26000, Loss: 1.8327\n",
      "Epoch 27000, Loss: 1.8783\n",
      "Epoch 28000, Loss: 1.8024\n",
      "Epoch 29000, Loss: 1.8873\n",
      "Epoch 30000, Loss: 1.8973\n",
      "Epoch 31000, Loss: 1.7953\n",
      "Epoch 32000, Loss: 1.7558\n",
      "Epoch 33000, Loss: 1.8347\n",
      "Epoch 34000, Loss: 1.7498\n",
      "Обучение завершено!\n"
     ]
    }
   ],
   "source": [
    "learning_rate = 0.00005\n",
    "num_epochs = 35000\n",
    "print_interval = 1000\n",
    "\n",
    "criterion = nn.CrossEntropyLoss()\n",
    "optimizer = torch.optim.RMSprop(model.parameters(), lr=learning_rate, alpha=0.9)\n",
    "\n",
    "model.train()\n",
    "for epoch in range(num_epochs):\n",
    "    x_batch, y_batch = get_batch()\n",
    "    \n",
    "    optimizer.zero_grad()\n",
    "\n",
    "    hidden = model.init_hidden(batch_size)\n",
    "    \n",
    "    output, hidden = model(x_batch, hidden)\n",
    "    \n",
    "    loss = criterion(output.view(-1, vocab_size), y_batch.view(-1))\n",
    "    \n",
    "    loss.backward()\n",
    "    torch.nn.utils.clip_grad_norm_(model.parameters(), max_norm=1.0)\n",
    "    optimizer.step()\n",
    "    gc.collect()\n",
    "    \n",
    "    if epoch % print_interval == 0:\n",
    "        print(f'Epoch {epoch}, Loss: {loss.item():.4f}')\n",
    "        \n",
    "\n",
    "print(\"Обучение завершено!\")"
   ]
  },
  {
   "cell_type": "code",
   "execution_count": 10,
   "id": "d289eea2",
   "metadata": {},
   "outputs": [
    {
     "name": "stdout",
     "output_type": "stream",
     "text": [
      "Сгенерированный текст:\n",
      "Трава в сменят нерекоротное домой...\n",
      "Фервый в друг спрашивает: - Ты как пожалуйста, что на пароне приходи\n"
     ]
    }
   ],
   "source": [
    "def generate_text(model, start_str, length=100, temperature=0.8):\n",
    "    model.eval()\n",
    "    \n",
    "    chars = [ch for ch in start_str]\n",
    "    input_seq = torch.tensor(encode(chars), dtype=torch.long).unsqueeze(0)\n",
    "    hidden = model.init_hidden(1)\n",
    "    \n",
    "    for _ in range(length):\n",
    "        with torch.no_grad():\n",
    "            output, hidden = model(input_seq, hidden)\n",
    "            \n",
    "            logits = output[0, -1, :] / temperature\n",
    "            probabilities = torch.softmax(logits, dim=0)\n",
    "            \n",
    "            next_char_idx = torch.multinomial(probabilities, 1).item()\n",
    "            \n",
    "            chars.append(idx_to_char[next_char_idx])\n",
    "            input_seq = torch.tensor([[next_char_idx]], dtype=torch.long)\n",
    "    \n",
    "    return ''.join(chars)\n",
    "\n",
    "model.eval()\n",
    "generated_text = generate_text(model, \"Трава\", 100)\n",
    "print(\"Сгенерированный текст:\")\n",
    "print(generated_text)"
   ]
  },
  {
   "cell_type": "code",
   "execution_count": 13,
   "id": "142a09bd",
   "metadata": {},
   "outputs": [
    {
     "name": "stdout",
     "output_type": "stream",
     "text": [
      "Вы: как дела\n",
      "Модель: .\n",
      "Голоса от русских все читаю получает тот, а не п\n"
     ]
    }
   ],
   "source": [
    "def chat_with_model(model, initial_prompt=\"Привет\", response_length=50):\n",
    "    \"\"\"Функция для 'общения' с моделью\"\"\"\n",
    "    print(\"Вы:\", initial_prompt)\n",
    "    \n",
    "    response = generate_text(model, initial_prompt, response_length)\n",
    "\n",
    "    generated_response = response[len(initial_prompt):]\n",
    "    print(\"Модель:\", generated_response)\n",
    "\n",
    "chat_with_model(model, \"как дела\")"
   ]
  },
  {
   "cell_type": "code",
   "execution_count": null,
   "id": "eec331a6",
   "metadata": {},
   "outputs": [
    {
     "name": "stdout",
     "output_type": "stream",
     "text": [
      "Checkpoint saved: model_checkpoint.pth\n"
     ]
    }
   ],
   "source": [
    "def save_checkpoint(model, optimizer, epoch, loss, path='checkpoint.pth'):\n",
    "    torch.save({\n",
    "        'epoch': epoch,\n",
    "        'model_state_dict': model.state_dict(),\n",
    "        'optimizer_state_dict': optimizer.state_dict(),\n",
    "        'loss': loss,\n",
    "    }, path)\n",
    "    print(f'Checkpoint saved: {path}')\n",
    "\n",
    "save_checkpoint(model, optimizer, epoch, loss, 'model_checkpoint.pth')"
   ]
  },
  {
   "cell_type": "code",
   "execution_count": null,
   "id": "289fea96",
   "metadata": {},
   "outputs": [],
   "source": [
    "def load_for_generation(checkpoint_path):\n",
    "    checkpoint = torch.load(checkpoint_path, map_location='cpu')\n",
    "    \n",
    "    model = CharRNN(\n",
    "        vocab_size=checkpoint['model_config']['vocab_size'],\n",
    "        hidden_size=checkpoint['model_config']['hidden_size'],\n",
    "        num_layers=checkpoint['model_config']['num_layers'],\n",
    "        dropout=checkpoint['model_config']['dropout']\n",
    "    )\n",
    "    \n",
    "    model.load_state_dict(checkpoint['model_state_dict'])\n",
    "    \n",
    "    char_to_idx = checkpoint['char_to_idx']\n",
    "    idx_to_char = checkpoint['idx_to_char']\n",
    "    chars = checkpoint['chars']\n",
    "    \n",
    "    return model, char_to_idx, idx_to_char, chars\n",
    "\n",
    "model, char_to_idx, idx_to_char, chars = load_for_generation('checkpoints/best_model.pth')"
   ]
  }
 ],
 "metadata": {
  "kernelspec": {
   "display_name": "venv",
   "language": "python",
   "name": "python3"
  },
  "language_info": {
   "codemirror_mode": {
    "name": "ipython",
    "version": 3
   },
   "file_extension": ".py",
   "mimetype": "text/x-python",
   "name": "python",
   "nbconvert_exporter": "python",
   "pygments_lexer": "ipython3",
   "version": "3.11.2"
  }
 },
 "nbformat": 4,
 "nbformat_minor": 5
}
