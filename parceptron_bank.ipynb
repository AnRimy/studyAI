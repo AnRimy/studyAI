{
 "cells": [
  {
   "cell_type": "code",
   "execution_count": 1,
   "id": "195f652a",
   "metadata": {},
   "outputs": [],
   "source": [
    "import numpy as np\n",
    "import matplotlib.pyplot as plt\n",
    "\n",
    "\n",
    "class Praceptron:\n",
    "    def __init__(self, learning_rate=0.01, epochs=1000):\n",
    "        self.learning_rate = learning_rate\n",
    "        self.epochs = epochs\n",
    "        self.weights = None\n",
    "        self.bias = 0\n",
    "\n",
    "\n",
    "    def step_function(self, x):\n",
    "        return 1 if x >= 0 else 0\n",
    "\n",
    "\n",
    "    def predict(self, x):\n",
    "        weight_sum = np.dot(x, self.weights) + self.bias\n",
    "        return self.step_function(weight_sum)\n",
    "\n",
    "\n",
    "    def fit(self, X, y):\n",
    "        self.weights = np.zeros(X.shape[1])\n",
    "        for epoch in range(self.epochs):\n",
    "            for i in range(len(X)):\n",
    "                x = X[i]\n",
    "                y_pred = self.predict(x)\n",
    "                error = y[i] - y_pred\n",
    "\n",
    "                \n",
    "                self.weights += self.learning_rate * error * x\n",
    "                self.bias += self.learning_rate * error\n",
    "\n",
    "\n",
    "X = np.array([\n",
    "    [50, 30],  # Клиент 1 (не одобрить)\n",
    "    [80, 70],  # Клиент 2 (одобрить)\n",
    "    [20, 50],  # Клиент 3 (не одобрить)\n",
    "    [90, 85],  # Клиент 4 (одобрить)\n",
    "    [10, 25],  # Клиент 5 (не одобрить)\n",
    "    [95, 10],  # Клиент 6 (не одобрить)\n",
    "])/100\n",
    "y = np.array([0, 1, 0, 1, 0, 0])\n",
    "\n",
    "perceptron = Praceptron()\n",
    "\n",
    "\n",
    "perceptron.fit(X, y) \n"
   ]
  },
  {
   "cell_type": "code",
   "execution_count": 2,
   "id": "4dd5a04f",
   "metadata": {},
   "outputs": [
    {
     "name": "stdout",
     "output_type": "stream",
     "text": [
      "[87. 60.]\n",
      "1\n",
      "[28. 74.]\n",
      "0\n",
      "[68. 18.]\n",
      "0\n",
      "[25. 65.]\n",
      "0\n",
      "[43. 97.]\n",
      "0\n",
      "[35. 64.]\n",
      "0\n",
      "[72. 43.]\n",
      "0\n",
      "[19.  9.]\n",
      "0\n",
      "[89. 43.]\n",
      "1\n",
      "[33. 10.]\n",
      "0\n"
     ]
    }
   ],
   "source": [
    "new_clients = np.random.randint(0, 101, size=(10, 2))/100\n",
    "for person in new_clients:\n",
    "    print(person*100)\n",
    "    print(perceptron.predict(person))"
   ]
  }
 ],
 "metadata": {
  "kernelspec": {
   "display_name": "venv",
   "language": "python",
   "name": "python3"
  },
  "language_info": {
   "codemirror_mode": {
    "name": "ipython",
    "version": 3
   },
   "file_extension": ".py",
   "mimetype": "text/x-python",
   "name": "python",
   "nbconvert_exporter": "python",
   "pygments_lexer": "ipython3",
   "version": "3.11.2"
  }
 },
 "nbformat": 4,
 "nbformat_minor": 5
}
